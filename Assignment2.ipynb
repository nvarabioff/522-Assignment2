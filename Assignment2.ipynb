{
  "nbformat": 4,
  "nbformat_minor": 0,
  "metadata": {
    "colab": {
      "name": "Assignment2.ipynb",
      "provenance": [],
      "collapsed_sections": [],
      "toc_visible": true
    },
    "kernelspec": {
      "name": "python3",
      "display_name": "Python 3"
    },
    "language_info": {
      "name": "python"
    }
  },
  "cells": [
    {
      "cell_type": "code",
      "metadata": {
        "id": "2i8ZGligxjFB"
      },
      "source": [
        "# import standard libraries\n",
        "\n",
        "import numpy as np # linear algebra\n",
        "import pandas as pd # data processing, CSV file I/O (e.g. pd.read_csv)\n",
        "from sklearn.model_selection import train_test_split, GridSearchCV, cross_val_score\n",
        "from sklearn.svm import SVC # \"Support vector classifier\"\n",
        "from sklearn.metrics import accuracy_score\n",
        "from sklearn.decomposition import PCA"
      ],
      "execution_count": 1,
      "outputs": []
    },
    {
      "cell_type": "code",
      "metadata": {
        "id": "zdzhHOW4xotG",
        "colab": {
          "base_uri": "https://localhost:8080/"
        },
        "outputId": "42d8552b-991c-4450-e930-3d5134333af2"
      },
      "source": [
        "# load train and test data\n",
        "train_data = pd.read_csv('/content/train.csv')\n",
        "test_data = pd.read_csv('/content/test.csv')\n",
        "\n",
        "# different classes\n",
        "train_data.label.unique()\n",
        "\n",
        "# separate into labels and data\n",
        "X = train_data.iloc[:,1:]\n",
        "y = train_data.iloc[:,0]\n",
        "\n",
        "print(train_data.shape)\n",
        "print(X.shape)\n",
        "print(y.shape)\n",
        "#convert pandas DataFrame to numpy array if it needed!\n",
        "train_data_numpy = train_data.to_numpy()\n",
        "test_data_numpy = test_data.to_numpy()"
      ],
      "execution_count": 3,
      "outputs": [
        {
          "output_type": "stream",
          "text": [
            "(32000, 785)\n",
            "(32000, 784)\n",
            "(32000,)\n"
          ],
          "name": "stdout"
        }
      ]
    },
    {
      "cell_type": "code",
      "metadata": {
        "colab": {
          "base_uri": "https://localhost:8080/"
        },
        "id": "3iKqYNzU05k0",
        "outputId": "fb5990c7-d907-49d1-8d7e-45c1f085599c"
      },
      "source": [
        "# dimensionality reduction\n",
        "# PCA\n",
        "pca = PCA(0.91)\n",
        "pca.fit(X)\n",
        "X_PCA = pca.transform(X)\n",
        "test_data_PCA=pca.transform(test_data)\n",
        "print('Raw Data: ', X.shape)\n",
        "print('After PCA: ', X_PCA.shape)\n",
        "print(test_data_PCA.shape)"
      ],
      "execution_count": 4,
      "outputs": [
        {
          "output_type": "stream",
          "text": [
            "Raw Data:  (32000, 784)\n",
            "After PCA:  (32000, 95)\n",
            "(8000, 95)\n"
          ],
          "name": "stdout"
        }
      ]
    },
    {
      "cell_type": "code",
      "metadata": {
        "id": "itnOKi89LlAe"
      },
      "source": [
        "# submission\n",
        "id = [i for i in range(test_data_numpy.shape[0])]\n",
        "\n",
        "model_all = SVC(C=1000, gamma=4.34E-7).fit(X_PCA, y)\n",
        "test_data_result = model_all.predict(test_data_PCA)\n",
        "test_submission = pd.DataFrame({'id': id, 'label': np.array(test_data_result)})\n",
        "\n",
        "test_submission.to_csv('submission12.csv', index=False)"
      ],
      "execution_count": 5,
      "outputs": []
    },
    {
      "cell_type": "markdown",
      "metadata": {
        "id": "_MzdRvYkDCUR"
      },
      "source": [
        "Below is code I used for testing. This code is not used in the final submission."
      ]
    },
    {
      "cell_type": "code",
      "metadata": {
        "id": "BuC79iNMKmnm"
      },
      "source": [
        "# separate into training and testing data\n",
        "X_tr, X_test, y_tr, y_test = train_test_split(X_PCA, y, test_size=0.3, random_state=0)"
      ],
      "execution_count": 7,
      "outputs": []
    },
    {
      "cell_type": "code",
      "metadata": {
        "id": "nDmR-BezBb2x",
        "colab": {
          "base_uri": "https://localhost:8080/"
        },
        "outputId": "e1b0b36c-d883-4330-9365-99a4544a8676"
      },
      "source": [
        "# parameter tuning\n",
        "parameters = {\n",
        "    # 'kernel': ['rbf'],\n",
        "    'C': [1000],\n",
        "    # 'decision_function_shape': ['ovo'],\n",
        "    'gamma': [4.34e-7, 4.36e-7],\n",
        "    # 'degree': [2, 3, 4, 5, 6, 7, 8, 9, 10],\n",
        "    # 'cache_size': [100, 200, 300, 500, 800, 1000],\n",
        "    # 'class_weight': ['balanced']\n",
        "    }\n",
        "\n",
        "svc = SVC()\n",
        "clf = GridSearchCV(svc, parameters)\n",
        "clf.fit(X_tr, y_tr)\n",
        "print(\"Best parameters set found on development set:\")\n",
        "print(clf.best_params_)\n",
        "print(\"Grid scores on development set:\")\n",
        "means = clf.cv_results_['mean_test_score']\n",
        "stds = clf.cv_results_['std_test_score']\n",
        "for mean, std, params in zip(means, stds, clf.cv_results_['params']):\n",
        "  print(\"%0.9f (+/-%0.09f) for %r\" % (mean, std * 2, params))"
      ],
      "execution_count": 9,
      "outputs": [
        {
          "output_type": "stream",
          "text": [
            "Best parameters set found on development set:\n",
            "{'C': 1000, 'gamma': 4.34e-07}\n",
            "Grid scores on development set:\n",
            "0.980491071 (+/-0.002566091) for {'C': 1000, 'gamma': 4.34e-07}\n",
            "0.980491071 (+/-0.002566091) for {'C': 1000, 'gamma': 4.36e-07}\n"
          ],
          "name": "stdout"
        }
      ]
    },
    {
      "cell_type": "code",
      "metadata": {
        "colab": {
          "base_uri": "https://localhost:8080/"
        },
        "id": "12sysc7Y0_Ql",
        "outputId": "234d60bb-eaad-4708-dc8e-e5abad9bdc33"
      },
      "source": [
        "# Internal testing\n",
        "model = SVC(C=1e10, gamma=4.32E-7)\n",
        "for i in [0.9, 0.92]:\n",
        "  pca = PCA(i).fit(X)\n",
        "  X_PCA = pca.transform(X)\n",
        "  print(i, X_PCA.shape)\n",
        "  scores = cross_val_score(model, X_PCA, y, cv=5)\n",
        "  print(\"%0.9f accuracy with a standard deviation of %0.9f\" % (scores.mean(), scores.std()))\n",
        "# model = SVC(C=1e10, gamma=4.2E-7)\n",
        "# scores = cross_val_score(model, X, y, cv=5)\n",
        "# print(\"%0.9f accuracy with a standard deviation of %0.9f\" % (scores.mean(), scores.std()))\n",
        "\n",
        "# model = SVC(C=1e10, gamma=4.2E-7)\n",
        "# model.fit(X_tr, y_tr)\n",
        "# result = model.predict(X_test)\n",
        "# print(accuracy_score(result, y_test))\n",
        "\n",
        "# numpy_data = np.array(result)\n",
        "# pd.DataFrame(numpy_data).to_csv('internal_test.csv', index=False)"
      ],
      "execution_count": 13,
      "outputs": [
        {
          "output_type": "stream",
          "text": [
            "0.9 (32000, 86)\n",
            "0.984000000 accuracy with a standard deviation of 0.001707635\n",
            "0.92 (32000, 105)\n",
            "0.983843750 accuracy with a standard deviation of 0.001741609\n"
          ],
          "name": "stdout"
        }
      ]
    }
  ]
}